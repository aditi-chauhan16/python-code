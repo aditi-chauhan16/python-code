{
  "nbformat": 4,
  "nbformat_minor": 0,
  "metadata": {
    "colab": {
      "provenance": [],
      "authorship_tag": "ABX9TyONlCPASsSqCwErXik8Ngbh",
      "include_colab_link": true
    },
    "kernelspec": {
      "name": "python3",
      "display_name": "Python 3"
    },
    "language_info": {
      "name": "python"
    }
  },
  "cells": [
    {
      "cell_type": "markdown",
      "metadata": {
        "id": "view-in-github",
        "colab_type": "text"
      },
      "source": [
        "<a href=\"https://colab.research.google.com/github/aditi-chauhan16/python-code/blob/main/abstract.ipynb\" target=\"_parent\"><img src=\"https://colab.research.google.com/assets/colab-badge.svg\" alt=\"Open In Colab\"/></a>"
      ]
    },
    {
      "cell_type": "code",
      "execution_count": 5,
      "metadata": {
        "colab": {
          "base_uri": "https://localhost:8080/"
        },
        "id": "JE5kMNni7uKZ",
        "outputId": "2e021d76-86e1-4fbe-d176-61ad4d049001"
      },
      "outputs": [
        {
          "output_type": "stream",
          "name": "stdout",
          "text": [
            "something\n",
            "more\n"
          ]
        }
      ],
      "source": [
        "#ABSTRACT CLASS\n",
        "\n",
        "import abc\n",
        "from abc import ABC, abstractmethod\n",
        "class shapes(ABC):\n",
        "  @abstractmethod\n",
        "  def area(self):\n",
        "    pass #EMPTY CLASS\n",
        "\n",
        "class triangle(shapes):\n",
        "  def sides(self):\n",
        "    print(\"i have three sides\")\n",
        "  def area(self):\n",
        "    print(\"something\")\n",
        "    print(\"more\")\n",
        "    super().area()\n",
        "\n",
        "t1=triangle()\n",
        "t1.area()"
      ]
    }
  ]
}