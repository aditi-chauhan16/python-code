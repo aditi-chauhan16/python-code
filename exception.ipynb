{
  "nbformat": 4,
  "nbformat_minor": 0,
  "metadata": {
    "colab": {
      "provenance": [],
      "authorship_tag": "ABX9TyMQ18GbcayRMwnebOBt0zOy",
      "include_colab_link": true
    },
    "kernelspec": {
      "name": "python3",
      "display_name": "Python 3"
    },
    "language_info": {
      "name": "python"
    }
  },
  "cells": [
    {
      "cell_type": "markdown",
      "metadata": {
        "id": "view-in-github",
        "colab_type": "text"
      },
      "source": [
        "<a href=\"https://colab.research.google.com/github/aditi-chauhan16/python-code/blob/main/exception.ipynb\" target=\"_parent\"><img src=\"https://colab.research.google.com/assets/colab-badge.svg\" alt=\"Open In Colab\"/></a>"
      ]
    },
    {
      "cell_type": "code",
      "execution_count": 8,
      "metadata": {
        "colab": {
          "base_uri": "https://localhost:8080/"
        },
        "id": "JE5kMNni7uKZ",
        "outputId": "5970df2a-0213-43f4-93c2-3e6b009c6e31"
      },
      "outputs": [
        {
          "output_type": "stream",
          "name": "stdout",
          "text": [
            "enter your age:18\n",
            "18\n"
          ]
        }
      ],
      "source": [
        "try:\n",
        "  age= int(input(\"enter your age:\"))\n",
        "  print(age)\n",
        "\n",
        "except Exception as e:\n",
        "  print(\"enter the number only\", e)\n",
        "\n",
        ""
      ]
    },
    {
      "cell_type": "code",
      "source": [
        "def div(m,n):\n",
        "  try:\n",
        "    return m/n\n",
        "  except zero_division_error:\n",
        "       print(\"division by zero is not possible\")\n",
        "  div(10,7)"
      ],
      "metadata": {
        "id": "V7dewUqmDWUO"
      },
      "execution_count": 14,
      "outputs": []
    },
    {
      "cell_type": "code",
      "source": [
        "def sum(a,b):\n",
        "  try:\n",
        "    print(\"resources opened\")\n",
        "    c=a+b\n",
        "    print(\"resources closed\")\n",
        "\n",
        "  except Exception:\n",
        "    print(\"something is not correct\")\n",
        "\n",
        "  finally:\n",
        "   print(\"file closed\")\n",
        "\n",
        "a=int(input(\"enter first number\"))\n",
        "b=int(input(\"enter second number\"))\n",
        "\n",
        "sum(a,b)\n",
        "\n",
        ""
      ],
      "metadata": {
        "colab": {
          "base_uri": "https://localhost:8080/"
        },
        "id": "GvAe6V8-IfmP",
        "outputId": "f6014ceb-c83d-46bd-f56f-cdf6726f9c5e"
      },
      "execution_count": 31,
      "outputs": [
        {
          "output_type": "stream",
          "name": "stdout",
          "text": [
            "enter first number12\n",
            "enter second number54\n",
            "resources opened\n",
            "resources closed\n",
            "file closed\n"
          ]
        }
      ]
    },
    {
      "cell_type": "code",
      "source": [
        "class Person:\n",
        "  name='aditi'\n",
        "  department='socs'\n",
        "\n",
        "  def info(self):\n",
        "    print(self.name, self.department)\n",
        "\n",
        "  def address(self, city):\n",
        "    print(self.name, self.department, city)\n",
        "\n",
        "a=Person()\n",
        "print(a.name, a.department)\n",
        "a.info()\n",
        "city='srinagar'\n",
        "a.address(city)"
      ],
      "metadata": {
        "colab": {
          "base_uri": "https://localhost:8080/"
        },
        "id": "IJ8Aje1JLNsV",
        "outputId": "c94a248c-b0ca-411b-89d0-ed74852949ee"
      },
      "execution_count": 35,
      "outputs": [
        {
          "output_type": "stream",
          "name": "stdout",
          "text": [
            "aditi socs\n",
            "aditi socs\n",
            "aditi socs srinagar\n"
          ]
        }
      ]
    },
    {
      "cell_type": "code",
      "source": [
        "#USING INIT\n",
        "class person:\n",
        "  def __init__(self,name,dept):\n",
        "     self.name=name\n",
        "     self.dept=dept\n",
        "  def info(self):\n",
        "    print(self.name,self.dept)\n",
        "p1=person(\"aditi\",\"socs\")\n",
        "p1.info()"
      ],
      "metadata": {
        "colab": {
          "base_uri": "https://localhost:8080/"
        },
        "id": "mTj9wZttMFnQ",
        "outputId": "2d117005-7164-444d-f4f9-84998e3385b0"
      },
      "execution_count": 42,
      "outputs": [
        {
          "output_type": "stream",
          "name": "stdout",
          "text": [
            "aditi socs\n"
          ]
        }
      ]
    }
  ]
}