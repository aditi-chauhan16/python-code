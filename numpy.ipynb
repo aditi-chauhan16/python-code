{
  "nbformat": 4,
  "nbformat_minor": 0,
  "metadata": {
    "colab": {
      "provenance": [],
      "authorship_tag": "ABX9TyNpC5plWcxJlVxg5Ra+pfCX",
      "include_colab_link": true
    },
    "kernelspec": {
      "name": "python3",
      "display_name": "Python 3"
    },
    "language_info": {
      "name": "python"
    }
  },
  "cells": [
    {
      "cell_type": "markdown",
      "metadata": {
        "id": "view-in-github",
        "colab_type": "text"
      },
      "source": [
        "<a href=\"https://colab.research.google.com/github/aditi-chauhan16/python-code/blob/main/numpy.ipynb\" target=\"_parent\"><img src=\"https://colab.research.google.com/assets/colab-badge.svg\" alt=\"Open In Colab\"/></a>"
      ]
    },
    {
      "cell_type": "code",
      "execution_count": 7,
      "metadata": {
        "colab": {
          "base_uri": "https://localhost:8080/"
        },
        "id": "JE5kMNni7uKZ",
        "outputId": "62ad7859-884d-4250-d4d3-1c41ad7f7d20"
      },
      "outputs": [
        {
          "output_type": "stream",
          "name": "stdout",
          "text": [
            "Requirement already satisfied: numpy in /usr/local/lib/python3.10/dist-packages (1.25.2)\n",
            "[5 6 0 4]\n",
            "[4 7 8 9]\n",
            "[5 6 0 4]\n",
            "[4 7 8 9]\n",
            "[[ 2  3  4  5]\n",
            " [ 6  7  8  9]\n",
            " [10 11 12 13]\n",
            " [14 15 16 17]]\n",
            "      column1  column2  column3  column4\n",
            "Row1        0        1        2        3\n",
            "Row2        4        5        6        7\n",
            "Row3        8        9       10       11\n",
            "Row4       12       13       14       15\n",
            "Row5       16       17       18       19\n",
            "<class 'pandas.core.frame.DataFrame'>\n",
            "Index: 5 entries, Row1 to Row5\n",
            "Data columns (total 4 columns):\n",
            " #   Column   Non-Null Count  Dtype\n",
            "---  ------   --------------  -----\n",
            " 0   column1  5 non-null      int64\n",
            " 1   column2  5 non-null      int64\n",
            " 2   column3  5 non-null      int64\n",
            " 3   column4  5 non-null      int64\n",
            "dtypes: int64(4)\n",
            "memory usage: 200.0+ bytes\n",
            "      column1  column2  column3  column4\n",
            "Row1        0        1        2        3\n",
            "Row2        4        5        6        7\n",
            "Row3        8        9       10       11\n",
            "Row4       12       13       14       15\n",
            "Row5       16       17       18       19\n",
            "<class 'pandas.core.frame.DataFrame'>\n",
            "Index: 5 entries, Row1 to Row5\n",
            "Data columns (total 4 columns):\n",
            " #   Column   Non-Null Count  Dtype\n",
            "---  ------   --------------  -----\n",
            " 0   column1  5 non-null      int64\n",
            " 1   column2  5 non-null      int64\n",
            " 2   column3  5 non-null      int64\n",
            " 3   column4  5 non-null      int64\n",
            "dtypes: int64(4)\n",
            "memory usage: 200.0+ bytes\n"
          ]
        }
      ],
      "source": [
        "\n",
        "\n",
        "!pip install numpy\n",
        "import numpy as np\n",
        "t1=(5,6,0,4)\n",
        "t2=(4,7,8,9)\n",
        "arr=np.array(t1)\n",
        "arr2=np.array(t2)\n",
        "\n",
        "print(arr)\n",
        "print(arr2)\n",
        "\n",
        "import pandas as pd\n",
        "import numpy as np\n",
        "t1=(5,6,0,4)\n",
        "t2=(4,7,8,9)\n",
        "arr=np.array(t1)\n",
        "arr2=np.array(t2)\n",
        "arr3=np.arange(2,18).reshape(4,4) #TO CREATE 1D ARRAY\n",
        "print(arr)\n",
        "print(arr2)\n",
        "print(arr3)\n",
        "\n",
        "\n",
        "import pandas as pd\n",
        "import numpy as np\n",
        "pf=pd.DataFrame(data=np.arange(0,20).reshape(5,4),index=[\"Row1\", \"Row2\",\"Row3\", \"Row4\",\"Row5\"  ],\n",
        "                                                   columns=[\"column1\",\"column2\",\"column3\", \"column4\"])\n",
        "print(pf)\n",
        "pf.describe()\n",
        "pf.info()\n",
        "\n",
        "import pandas as pd\n",
        "import numpy as np\n",
        "pd=pd.DataFrame(data=np.arange(0,20).reshape(5,4),index=[\"Row1\", \"Row2\",\"Row3\", \"Row4\",\"Row5\"  ],\n",
        "                                                   columns=[\"column1\",\"column2\",\"column3\", \"column4\"])\n",
        "print(pd)\n",
        "pd.describe()\n",
        "pd.info()\n",
        "\n",
        ""
      ]
    }
  ]
}