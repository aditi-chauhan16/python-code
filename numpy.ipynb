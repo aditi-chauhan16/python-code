!pip install numpy
import numpy as np 
t1=(5,6,0,4)
t2=(4,7,8,9)
arr=np.array(t1)
arr2=np.array(t2)

print(arr)
print(arr2)

t1=(5,6,0,4)
t2=(4,7,8,9)
arr=np.array(t1)
arr2=np.array(t2)
arr3=np.arange(2,18).reshape(4,4) #TO CREATE 1D ARRAY
print(arr)
print(arr2)
print(arr3)


import pandas as pd
import numpy as np
pf=pd.DataFrame(data=np.arange(0,20).reshape(5,4),index=["Row1", "Row2","Row3", "Row4","Row5"  ], 
                                                   columns=["column1","column2","column3", "column4"])
print(pf)
pf.describe()
pf.info()


pd=pd.DataFrame(data=np.arange(0,20).reshape(5,4),index=["Row1", "Row2","Row3", "Row4","Row5"  ], 
                                                   columns=["column1","column2","column3", "column4"])
print(pd)
pd.describe()
pd.info()
        
   
