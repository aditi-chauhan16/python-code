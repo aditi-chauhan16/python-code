{
  "nbformat": 4,
  "nbformat_minor": 0,
  "metadata": {
    "colab": {
      "provenance": [],
      "authorship_tag": "ABX9TyPLLB49lAUV/Q0+c8tg7mdL",
      "include_colab_link": true
    },
    "kernelspec": {
      "name": "python3",
      "display_name": "Python 3"
    },
    "language_info": {
      "name": "python"
    }
  },
  "cells": [
    {
      "cell_type": "markdown",
      "metadata": {
        "id": "view-in-github",
        "colab_type": "text"
      },
      "source": [
        "<a href=\"https://colab.research.google.com/github/aditi-chauhan16/python-code/blob/main/Inheritance.ipynb\" target=\"_parent\"><img src=\"https://colab.research.google.com/assets/colab-badge.svg\" alt=\"Open In Colab\"/></a>"
      ]
    },
    {
      "cell_type": "code",
      "execution_count": 11,
      "metadata": {
        "colab": {
          "base_uri": "https://localhost:8080/"
        },
        "id": "oHdxtciqjPxZ",
        "outputId": "ed09878d-39e4-4d01-bedf-4eab2def96da"
      },
      "outputs": [
        {
          "output_type": "stream",
          "name": "stdout",
          "text": [
            "Hello\n",
            "Everyone!\n",
            "Hello\n",
            "Everyone!\n",
            "My Name is aditi.\n"
          ]
        }
      ],
      "source": [
        "#INHERITENCE\n",
        "class A:\n",
        "  def show(self):\n",
        "    print(\"Hello\")\n",
        "class B(A):\n",
        "  def show2(self):\n",
        "    print(\"Everyone!\")\n",
        "class C(B):\n",
        "  def show3(self):\n",
        "    print(\"My Name is aditi.\")\n",
        "\n",
        "\n",
        "b1=B()\n",
        "b1.show()\n",
        "b1.show2()\n",
        "b2=C()\n",
        "b2.show()\n",
        "b2.show2()\n",
        "b2.show3()"
      ]
    },
    {
      "cell_type": "code",
      "source": [
        "\n",
        "\n",
        "#Abstract\n",
        "\n",
        "class Fruit:\n",
        "  def taste(self):\n",
        "    pass\n",
        "\n",
        "  def color(self):\n",
        "    pass\n",
        "\n",
        "  def richness(self):\n",
        "    pass\n",
        "\n",
        "\n",
        "class Mango(Fruit):\n",
        "  def taste(self):\n",
        "    print(\"Taste of mangoes in summer is awwesomee!\")\n",
        "  def color(self):\n",
        "    print(\"Mangoes are generally yellow in color!\")\n",
        "  def richness(self):\n",
        "    print(\"Mangoes are rich in vitamin A.\")\n",
        "\n",
        "\n",
        "class Papaya(Fruit):\n",
        "  def taste(self):\n",
        "    print(\"Taste of Papaya in summer is magic!\")\n",
        "  def color(self):\n",
        "    print(\"Papayas are generally yellow in color!\")\n",
        "  def richness(self):\n",
        "    print(\"Papayas are rich in magnesium.\")\n",
        "\n",
        "\n",
        "class Apple(Fruit):\n",
        "  def taste(self):\n",
        "    print(\"Taste of Apples in summer is Wow!\")\n",
        "  def color(self):\n",
        "    print(\"Apples are generally red in color!\")\n",
        "  def richness(self):\n",
        "    print(\"Apples are rich in magnesium.\")\n",
        "\n",
        "\n",
        "a=Apple()\n",
        "a.taste()\n",
        "a.color()\n",
        "a.richness()"
      ],
      "metadata": {
        "id": "EoW-fnaulE9_"
      },
      "execution_count": null,
      "outputs": []
    }
  ]
}