{
  "nbformat": 4,
  "nbformat_minor": 0,
  "metadata": {
    "colab": {
      "provenance": [],
      "toc_visible": true,
      "authorship_tag": "ABX9TyMp+Y24mvxRv4HF8amJfWK6",
      "include_colab_link": true
    },
    "kernelspec": {
      "name": "python3",
      "display_name": "Python 3"
    },
    "language_info": {
      "name": "python"
    }
  },
  "cells": [
    {
      "cell_type": "markdown",
      "metadata": {
        "id": "view-in-github",
        "colab_type": "text"
      },
      "source": [
        "<a href=\"https://colab.research.google.com/github/aditi-chauhan16/python-code/blob/main/ACCOUNT.ipynb\" target=\"_parent\"><img src=\"https://colab.research.google.com/assets/colab-badge.svg\" alt=\"Open In Colab\"/></a>"
      ]
    },
    {
      "cell_type": "code",
      "source": [
        "class Account:\n",
        "    def __init__(self, balance=0):\n",
        "        self.balance = balance\n",
        "\n",
        "    def check_balance(self):\n",
        "        return self.balance\n",
        "\n",
        "    def deposit(self, amount):\n",
        "        if amount > 0:\n",
        "            self.balance += amount\n",
        "            print(f\"Deposit of ${amount} successful.\")\n",
        "        else:\n",
        "            print(\"Invalid amount for deposit.\")\n",
        "\n",
        "    def withdraw(self, amount):\n",
        "        try:\n",
        "            if amount <= 0:\n",
        "                raise ValueError(\"Invalid amount for withdrawal.\")\n",
        "            elif amount > self.balance:\n",
        "                raise ValueError(\"Insufficient balance.\")\n",
        "            else:\n",
        "                self.balance -= amount\n",
        "                print(f\"Withdrawal of ${amount} successful. Remaining balance: ${self.balance}\")\n",
        "        except ValueError as e:\n",
        "            print(\"Error:\", e)\n",
        "\n",
        "\n",
        "class ATM:\n",
        "    def __init__(self, account):\n",
        "        self.account = account\n",
        "\n",
        "    def display_menu(self):\n",
        "        print(\"\\nATM Menu:\")\n",
        "        print(\"1. Check Balance\")\n",
        "        print(\"2. Deposit\")\n",
        "        print(\"3. Withdraw\")\n",
        "        print(\"4. Exit\")\n",
        "\n",
        "    def run(self):\n",
        "        while True:\n",
        "            self.display_menu()\n",
        "            choice = input(\"Enter your choice: \")\n",
        "\n",
        "            if choice == '1':\n",
        "                print(\"Current Balance:\", self.account.check_balance())\n",
        "            elif choice == '2':\n",
        "                amount = float(input(\"Enter deposit amount: $\"))\n",
        "                self.account.deposit(amount)\n",
        "            elif choice == '3':\n",
        "                amount = float(input(\"Enter withdrawal amount: $\"))\n",
        "                self.account.withdraw(amount)\n",
        "            elif choice == '4':\n",
        "                print(\"Exiting ATM. Thank you for using!\")\n",
        "                break\n",
        "            else:\n",
        "                print(\"Invalid choice. Please choose a valid option.\")\n",
        "\n",
        "\n",
        "# Usage example:\n",
        "if __name__ == \"__main__\":\n",
        "    initial_balance = float(input(\"Enter initial account balance: $\"))\n",
        "    user_account = Account(initial_balance)\n",
        "    atm_machine = ATM(user_account)\n",
        "    atm_machine.run()\n"
      ],
      "metadata": {
        "colab": {
          "base_uri": "https://localhost:8080/"
        },
        "id": "A9HGoG2tZvvd",
        "outputId": "9e0c8ff2-9e1c-4eec-e081-dbe4577a4e9e"
      },
      "execution_count": 12,
      "outputs": [
        {
          "output_type": "stream",
          "name": "stdout",
          "text": [
            "Enter initial account balance: $1000\n",
            "\n",
            "ATM Menu:\n",
            "1. Check Balance\n",
            "2. Deposit\n",
            "3. Withdraw\n",
            "4. Exit\n",
            "Enter your choice: 2\n",
            "Enter deposit amount: $300\n",
            "Deposit of $300.0 successful.\n",
            "\n",
            "ATM Menu:\n",
            "1. Check Balance\n",
            "2. Deposit\n",
            "3. Withdraw\n",
            "4. Exit\n",
            "Enter your choice: 4\n",
            "Exiting ATM. Thank you for using!\n"
          ]
        }
      ]
    }
  ]
}